{
 "cells": [
  {
   "cell_type": "markdown",
   "id": "e8fe3a0f",
   "metadata": {},
   "source": [
    "# Red Wine Quality Prediction"
   ]
  },
  {
   "cell_type": "code",
   "execution_count": null,
   "id": "3c273ace",
   "metadata": {},
   "outputs": [],
   "source": [
    "import pandas as pd\n",
    "import numpy as np\n",
    "import matplotlib.pyplot as plt\n",
    "import seaborn as sns\n",
    "%matplotlib inline\n",
    "from sklearn.model_selection import train_test_split\n",
    "from sklearn.ensemble import RandomForestClassifier\n",
    "from sklearn.metrics import accuracy_score"
   ]
  },
  {
   "cell_type": "code",
   "execution_count": null,
   "id": "96e2faa7",
   "metadata": {},
   "outputs": [],
   "source": [
    "df=pd.read_csv('winequality-red.csv')\n",
    "df"
   ]
  },
  {
   "cell_type": "code",
   "execution_count": null,
   "id": "7059fba8",
   "metadata": {},
   "outputs": [],
   "source": [
    "df.head(10)"
   ]
  },
  {
   "cell_type": "code",
   "execution_count": null,
   "id": "6c604dc1",
   "metadata": {},
   "outputs": [],
   "source": [
    "df.columns"
   ]
  },
  {
   "cell_type": "code",
   "execution_count": null,
   "id": "a74185d6",
   "metadata": {},
   "outputs": [],
   "source": [
    "df.describe()"
   ]
  },
  {
   "cell_type": "code",
   "execution_count": null,
   "id": "534a2f40",
   "metadata": {},
   "outputs": [],
   "source": [
    "df.info()"
   ]
  },
  {
   "cell_type": "code",
   "execution_count": null,
   "id": "2cde270b",
   "metadata": {},
   "outputs": [],
   "source": [
    "df.isnull().sum()"
   ]
  },
  {
   "cell_type": "code",
   "execution_count": null,
   "id": "2a536d1f",
   "metadata": {},
   "outputs": [],
   "source": [
    "df.corr()"
   ]
  },
  {
   "cell_type": "code",
   "execution_count": null,
   "id": "fcb246c4",
   "metadata": {},
   "outputs": [],
   "source": [
    "plt.figure(figsize=(12,12))\n",
    "sns.heatmap(df.corr(),annot=True,linewidth=0.2,linecolor=\"black\",fmt=' .2f')"
   ]
  },
  {
   "cell_type": "code",
   "execution_count": null,
   "id": "9050feb2",
   "metadata": {},
   "outputs": [],
   "source": [
    "sns.catplot(x='quality',data=df,kind='count')"
   ]
  },
  {
   "cell_type": "code",
   "execution_count": null,
   "id": "1368f291",
   "metadata": {},
   "outputs": [],
   "source": [
    "plot=plt.figure(figsize=(5,5))\n",
    "sns.barplot(x='quality',y='volatile acidity',data=df )\n"
   ]
  },
  {
   "cell_type": "code",
   "execution_count": null,
   "id": "d3b832e7",
   "metadata": {},
   "outputs": [],
   "source": [
    "plot=plt.figure(figsize=(5,5))\n",
    "sns.barplot(x='quality',y='citric acid',data=df )"
   ]
  },
  {
   "cell_type": "code",
   "execution_count": null,
   "id": "6cd1f08c",
   "metadata": {},
   "outputs": [],
   "source": [
    "plot=plt.figure(figsize=(5,5))\n",
    "sns.barplot(x='quality',y='residual sugar',data=df )"
   ]
  },
  {
   "cell_type": "code",
   "execution_count": null,
   "id": "3e436564",
   "metadata": {},
   "outputs": [],
   "source": [
    "plot=plt.figure(figsize=(5,5))\n",
    "sns.barplot(x='quality',y='chlorides',data=df )"
   ]
  },
  {
   "cell_type": "code",
   "execution_count": null,
   "id": "23c4c392",
   "metadata": {},
   "outputs": [],
   "source": [
    "plot=plt.figure(figsize=(5,5))\n",
    "sns.barplot(x='quality',y='density',data=df )"
   ]
  },
  {
   "cell_type": "code",
   "execution_count": null,
   "id": "fb087bf2",
   "metadata": {},
   "outputs": [],
   "source": [
    "plot=plt.figure(figsize=(5,5))\n",
    "sns.barplot(x='quality',y='free sulfur dioxide',data=df )"
   ]
  },
  {
   "cell_type": "code",
   "execution_count": null,
   "id": "dedbf318",
   "metadata": {},
   "outputs": [],
   "source": [
    "plot=plt.figure(figsize=(5,5))\n",
    "sns.barplot(x='quality',y='total sulfur dioxide',data=df )"
   ]
  },
  {
   "cell_type": "code",
   "execution_count": null,
   "id": "34c9b5f1",
   "metadata": {},
   "outputs": [],
   "source": [
    "plt.figure(figsize=(5,5))  \n",
    "sns.boxplot(x=\"quality\",y=\"alcohol\",data=df)"
   ]
  },
  {
   "cell_type": "code",
   "execution_count": null,
   "id": "fafe481f",
   "metadata": {},
   "outputs": [],
   "source": [
    "plt.figure(figsize=(5,5))  \n",
    "sns.boxplot(x=\"quality\",y=\"volatile acidity\",data=df)"
   ]
  },
  {
   "cell_type": "code",
   "execution_count": null,
   "id": "875e665e",
   "metadata": {},
   "outputs": [],
   "source": [
    "sns.lmplot(x=\"volatile acidity\",y=\"quality\",data=df)"
   ]
  },
  {
   "cell_type": "code",
   "execution_count": null,
   "id": "83ec541c",
   "metadata": {},
   "outputs": [],
   "source": [
    "sns.lmplot(x=\"total sulfur dioxide\",y=\"free sulfur dioxide\",data=df)"
   ]
  },
  {
   "cell_type": "code",
   "execution_count": null,
   "id": "d92bdab1",
   "metadata": {},
   "outputs": [],
   "source": [
    "df.shape"
   ]
  },
  {
   "cell_type": "code",
   "execution_count": null,
   "id": "f06b0ddd",
   "metadata": {},
   "outputs": [],
   "source": [
    "df.skew()"
   ]
  },
  {
   "cell_type": "code",
   "execution_count": null,
   "id": "3bec5e05",
   "metadata": {},
   "outputs": [],
   "source": [
    "x=df_new.iloc[:,:-1]\n",
    "y=df_new.iloc[:,-1]"
   ]
  },
  {
   "cell_type": "code",
   "execution_count": null,
   "id": "82501442",
   "metadata": {},
   "outputs": [],
   "source": [
    "from scipy.stats import zscore\n",
    "import numpy as np\n",
    "z=np.abs(zscore(df))\n",
    "z.shape"
   ]
  },
  {
   "cell_type": "code",
   "execution_count": null,
   "id": "4f8b754f",
   "metadata": {},
   "outputs": [],
   "source": [
    "threshold=3\n",
    "print(np.where(z>3))"
   ]
  },
  {
   "cell_type": "code",
   "execution_count": null,
   "id": "b079be8b",
   "metadata": {},
   "outputs": [],
   "source": [
    "df_new_z=df[(z<3).all(axis=1)]\n",
    "df_new_z"
   ]
  },
  {
   "cell_type": "code",
   "execution_count": null,
   "id": "7701a286",
   "metadata": {},
   "outputs": [],
   "source": [
    "df_new=df[(z<3).all(axis=1)]\n",
    "print(df.shape)\n",
    "print(df_new.shape)"
   ]
  },
  {
   "cell_type": "code",
   "execution_count": null,
   "id": "299b54d0",
   "metadata": {},
   "outputs": [],
   "source": [
    "loss_percent=((1599-1512)/1599)*100\n",
    "print(loss_percent)"
   ]
  },
  {
   "cell_type": "code",
   "execution_count": null,
   "id": "bef90df5",
   "metadata": {},
   "outputs": [],
   "source": [
    "from sklearn.preprocessing import power_transform\n",
    "x=power_transform(x,method='yeo-johnson')\n",
    "x"
   ]
  },
  {
   "cell_type": "code",
   "execution_count": null,
   "id": "bcc39fb5",
   "metadata": {},
   "outputs": [],
   "source": [
    "from sklearn.preprocessing import StandardScaler\n",
    "sc=StandardScaler()\n",
    "x=sc.fit_transform(x)\n",
    "x"
   ]
  },
  {
   "cell_type": "code",
   "execution_count": null,
   "id": "79ae9df1",
   "metadata": {},
   "outputs": [],
   "source": [
    "df=df.drop([\"residual sugar\",\"chlorides\",],axis=1)\n",
    "df"
   ]
  },
  {
   "cell_type": "code",
   "execution_count": null,
   "id": "ba9e7308",
   "metadata": {},
   "outputs": [],
   "source": [
    "df=df.drop([\"sulphates\"],axis=1)\n",
    "df"
   ]
  },
  {
   "cell_type": "code",
   "execution_count": null,
   "id": "f14d4685",
   "metadata": {},
   "outputs": [],
   "source": [
    "x=df.drop(\"quality\",axis=1)"
   ]
  },
  {
   "cell_type": "code",
   "execution_count": null,
   "id": "812ca372",
   "metadata": {},
   "outputs": [],
   "source": [
    "y=df[\"quality\"].apply(lambda y_value: 1 if y_value>=7 else 0)"
   ]
  },
  {
   "cell_type": "code",
   "execution_count": null,
   "id": "5d3683fd",
   "metadata": {},
   "outputs": [],
   "source": [
    "y"
   ]
  },
  {
   "cell_type": "code",
   "execution_count": null,
   "id": "523ce775",
   "metadata": {},
   "outputs": [],
   "source": [
    "x_train,x_test,y_train,y_test=train_test_split(x,y,test_size=0.2,random_state=2)"
   ]
  },
  {
   "cell_type": "code",
   "execution_count": null,
   "id": "864ae81c",
   "metadata": {},
   "outputs": [],
   "source": [
    "print(y.shape,y_train.shape,y_test.shape)"
   ]
  },
  {
   "cell_type": "code",
   "execution_count": null,
   "id": "a1af2644",
   "metadata": {},
   "outputs": [],
   "source": [
    "model=RandomForestClassifier()"
   ]
  },
  {
   "cell_type": "code",
   "execution_count": null,
   "id": "7d7ee202",
   "metadata": {},
   "outputs": [],
   "source": [
    "model.fit(x_train,y_train)"
   ]
  },
  {
   "cell_type": "code",
   "execution_count": null,
   "id": "916c7779",
   "metadata": {},
   "outputs": [],
   "source": [
    "x_test_prediction=model.predict(x_test)\n",
    "test_data_accuracy=accuracy_score(x_test_prediction,y_test)"
   ]
  },
  {
   "cell_type": "code",
   "execution_count": null,
   "id": "93b76123",
   "metadata": {},
   "outputs": [],
   "source": [
    "print('Accuracy :',test_data_accuracy)"
   ]
  },
  {
   "cell_type": "code",
   "execution_count": null,
   "id": "9aef6cb1",
   "metadata": {},
   "outputs": [],
   "source": [
    "input_data=(7.8,0.76,2.3,15.0,54.0,0.997,3.26,0.65,9.8)\n",
    "input_data_as_numpy_array=np.asarray(input_data)\n",
    "input_data_reshaped=input_data_as_numpy_array.reshape(1,-1)\n",
    "prediction=model.predict(input_data_reshaped)\n",
    "print(prediction)\n",
    "if(prediction[0]==1):\n",
    "    print('Good Quality Wine')\n",
    "else:\n",
    "    print('Bad Quality Wine')\n",
    "        "
   ]
  },
  {
   "cell_type": "code",
   "execution_count": null,
   "id": "8145a11a",
   "metadata": {},
   "outputs": [],
   "source": [
    "from sklearn.linear_model import LogisticRegression\n",
    "lr=LogisticRegression()\n"
   ]
  },
  {
   "cell_type": "code",
   "execution_count": null,
   "id": "e3758458",
   "metadata": {},
   "outputs": [],
   "source": [
    "for i in range(0,1000):\n",
    "    x_train,x_test,y_train,y_test=train_test_split(x,y,test_size=0.2,random_state=i)\n",
    "    lr.fit(x_train,y_train)\n",
    "    pred_train=lr.predict(x_train)\n",
    "    pred_test=lr.predict(x_test)\n",
    "    if round(accuracy_score(y_train,pred_train)*100,1)==round(accuracy_score(y_test,pred_test)*100,1):\n",
    "        print(\"At random state\" ,i, \"the model performs very well\")\n",
    "        print(\"At random state:-\" ,i)\n",
    "        print(\"Training r2_score is:-\",accuracy_score(y_train,pred_train)*100)\n",
    "        print(\"Training r2_score is:-\",accuracy_score(y_test,pred_test)*100)"
   ]
  },
  {
   "cell_type": "code",
   "execution_count": null,
   "id": "5f9fb91d",
   "metadata": {},
   "outputs": [],
   "source": [
    "from sklearn.metrics import classification_report\n",
    "print(classification_report(y_test,pred_test))"
   ]
  },
  {
   "cell_type": "code",
   "execution_count": null,
   "id": "76f6c624",
   "metadata": {},
   "outputs": [],
   "source": [
    "import pickle\n",
    "filename='redwine quality.pkl'\n",
    "pickle.dump(rf,open(filename,'wb'))"
   ]
  },
  {
   "cell_type": "code",
   "execution_count": null,
   "id": "8619d9c2",
   "metadata": {},
   "outputs": [],
   "source": []
  }
 ],
 "metadata": {
  "kernelspec": {
   "display_name": "Python 3",
   "language": "python",
   "name": "python3"
  },
  "language_info": {
   "codemirror_mode": {
    "name": "ipython",
    "version": 3
   },
   "file_extension": ".py",
   "mimetype": "text/x-python",
   "name": "python",
   "nbconvert_exporter": "python",
   "pygments_lexer": "ipython3",
   "version": "3.8.8"
  }
 },
 "nbformat": 4,
 "nbformat_minor": 5
}
